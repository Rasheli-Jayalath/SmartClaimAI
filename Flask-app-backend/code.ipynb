{
 "cells": [
  {
   "cell_type": "code",
   "execution_count": null,
   "metadata": {},
   "outputs": [],
   "source": [
    "from PIL import Image\n",
    "import torch\n",
    "from keras.applications.imagenet_utils import preprocess_input\n",
    "from tensorflow.keras.models import load_model\n",
    "from werkzeug.utils import secure_filename\n",
    "from IPython.display import display, Image as IImage"
   ]
  },
  {
   "cell_type": "code",
   "execution_count": null,
   "metadata": {},
   "outputs": [],
   "source": [
    "# define paths\n",
    "sampleImg = '843db098b83baa7b78ee19e632b9eefd.jpg'\n",
    "outputImg = \"static/images/image0.jpg\""
   ]
  },
  {
   "cell_type": "code",
   "execution_count": null,
   "metadata": {},
   "outputs": [],
   "source": [
    "# get image file\n",
    "img = Image.open(sampleImg)"
   ]
  },
  {
   "cell_type": "code",
   "execution_count": null,
   "metadata": {},
   "outputs": [],
   "source": [
    "# load model from online model repo\n",
    "model = torch.hub.load('ultralytics/yolov5', 'yolov5s', pretrained=True)\n",
    "model.eval()"
   ]
  },
  {
   "cell_type": "code",
   "execution_count": null,
   "metadata": {},
   "outputs": [],
   "source": [
    "#image classification and detect\n",
    "results = model(img)  # inference\n",
    "results.render()  # updates results.ims with boxes and labels\n",
    "Image.fromarray(results.ims[0]).save(outputImg)"
   ]
  },
  {
   "cell_type": "code",
   "execution_count": null,
   "metadata": {},
   "outputs": [],
   "source": [
    "# display result and actual\n",
    "display(IImage(filename=outputImg)) \n",
    "display(IImage(filename=sampleImg))"
   ]
  }
 ],
 "metadata": {
  "kernelspec": {
   "display_name": "base",
   "language": "python",
   "name": "python3"
  },
  "language_info": {
   "name": "python",
   "version": "3.9.13"
  },
  "orig_nbformat": 4,
  "vscode": {
   "interpreter": {
    "hash": "8299616635dcc1f381d65d612e0fd2d769da38324391a5998534e7abd7f0eff5"
   }
  }
 },
 "nbformat": 4,
 "nbformat_minor": 2
}
